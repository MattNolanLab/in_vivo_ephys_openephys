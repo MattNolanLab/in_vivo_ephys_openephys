{
 "cells": [
  {
   "cell_type": "code",
   "execution_count": 1,
   "metadata": {},
   "outputs": [],
   "source": [
    "import numpy as np"
   ]
  },
  {
   "cell_type": "code",
   "execution_count": 9,
   "metadata": {},
   "outputs": [
    {
     "name": "stdout",
     "output_type": "stream",
     "text": [
      "[ 0.          1.05263158  2.10526316  3.15789474  4.21052632  5.26315789\n",
      "  6.31578947  7.36842105  8.42105263  9.47368421 10.52631579 11.57894737\n",
      " 12.63157895 13.68421053 14.73684211 15.78947368 16.84210526 17.89473684\n",
      " 18.94736842 20.        ]\n"
     ]
    }
   ],
   "source": [
    "x=np.linspace(0,20,20)\n",
    "print(x)"
   ]
  },
  {
   "cell_type": "code",
   "execution_count": 7,
   "metadata": {},
   "outputs": [
    {
     "data": {
      "text/plain": [
       "array([1.00502513, 1.00502513, 1.00502513, 1.00502513, 1.00502513,\n",
       "       1.00502513, 1.00502513, 1.00502513, 1.00502513, 1.00502513])"
      ]
     },
     "execution_count": 7,
     "metadata": {},
     "output_type": "execute_result"
    }
   ],
   "source": [
    "np.diff(x)[:10]"
   ]
  },
  {
   "cell_type": "code",
   "execution_count": 10,
   "metadata": {},
   "outputs": [
    {
     "data": {
      "text/plain": [
       "1.005"
      ]
     },
     "execution_count": 10,
     "metadata": {},
     "output_type": "execute_result"
    }
   ],
   "source": [
    "(200+1)/200"
   ]
  },
  {
   "cell_type": "code",
   "execution_count": 12,
   "metadata": {},
   "outputs": [
    {
     "name": "stdout",
     "output_type": "stream",
     "text": [
      "1.61 µs ± 433 ns per loop (mean ± std. dev. of 7 runs, 1000000 loops each)\n"
     ]
    }
   ],
   "source": [
    "%timeit x[x<5]"
   ]
  },
  {
   "cell_type": "code",
   "execution_count": 13,
   "metadata": {},
   "outputs": [
    {
     "name": "stdout",
     "output_type": "stream",
     "text": [
      "1.49 µs ± 70.5 ns per loop (mean ± std. dev. of 7 runs, 1000000 loops each)\n"
     ]
    }
   ],
   "source": [
    "%timeit x[np.where(x<5)]"
   ]
  },
  {
   "cell_type": "code",
   "execution_count": 38,
   "metadata": {},
   "outputs": [],
   "source": [
    "speed = np.random.randint(0,10,1000)\n",
    "location = np.random.randint(0,10,1000)  "
   ]
  },
  {
   "cell_type": "code",
   "execution_count": 40,
   "metadata": {},
   "outputs": [
    {
     "name": "stdout",
     "output_type": "stream",
     "text": [
      "120 µs ± 3.17 µs per loop (mean ± std. dev. of 7 runs, 10000 loops each)\n"
     ]
    }
   ],
   "source": [
    "def averageSpeed(speed,location):\n",
    "    averageSpeed = []\n",
    "    for i in range(10):\n",
    "        s = speed[np.where(np.logical_and(location>=i,location<(i+1)))]\n",
    "        averageSpeed.append(s.mean())\n",
    "    return averageSpeed\n",
    "\n",
    "%timeit averageSpeed(speed,location)"
   ]
  },
  {
   "cell_type": "code",
   "execution_count": 41,
   "metadata": {},
   "outputs": [
    {
     "name": "stdout",
     "output_type": "stream",
     "text": [
      "156 µs ± 1.56 µs per loop (mean ± std. dev. of 7 runs, 10000 loops each)\n"
     ]
    }
   ],
   "source": [
    "def averageSpeed2(speed,location):\n",
    "    bins = np.linspace(0,10,10)\n",
    "    idx = np.digitize(location,bins,right=True)\n",
    "    averageSpeed = []\n",
    "    for i in range(10):\n",
    "        s = speed[np.where(idx==i)]\n",
    "        averageSpeed.append(s.mean())\n",
    "    return averageSpeed\n",
    "\n",
    "%timeit averageSpeed2(speed,location)"
   ]
  },
  {
   "cell_type": "code",
   "execution_count": null,
   "metadata": {},
   "outputs": [],
   "source": []
  }
 ],
 "metadata": {
  "kernelspec": {
   "display_name": "Python 3",
   "language": "python",
   "name": "python3"
  },
  "language_info": {
   "codemirror_mode": {
    "name": "ipython",
    "version": 3
   },
   "file_extension": ".py",
   "mimetype": "text/x-python",
   "name": "python",
   "nbconvert_exporter": "python",
   "pygments_lexer": "ipython3",
   "version": "3.7.3"
  }
 },
 "nbformat": 4,
 "nbformat_minor": 2
}
