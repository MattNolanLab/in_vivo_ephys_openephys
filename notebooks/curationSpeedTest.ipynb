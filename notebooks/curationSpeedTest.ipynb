{
 "cells": [
  {
   "cell_type": "code",
   "execution_count": 1,
   "metadata": {},
   "outputs": [
    {
     "name": "stderr",
     "output_type": "stream",
     "text": [
      "16:34:43 [I] klustakwik KlustaKwik2 version 0.2.6\n"
     ]
    }
   ],
   "source": [
    "%load_ext autoreload\n",
    "%autoreload 2\n",
    "%load_ext line_profiler\n",
    "import spikeinterface as si\n",
    "import spikeinterface.extractors as se\n",
    "import spikeinterface.toolkit as st\n",
    "import spikeinterface.sorters as sorters\n",
    "import spikeinterface.comparison as sc\n",
    "import spikeinterface.widgets as sw\n",
    "import settings\n",
    "import OpenEphys\n",
    "import numpy as np\n",
    "import pandas as pd\n",
    "import pickle"
   ]
  },
  {
   "cell_type": "code",
   "execution_count": 2,
   "metadata": {},
   "outputs": [
    {
     "name": "stdout",
     "output_type": "stream",
     "text": [
      "Loading continuous data...\n",
      "Loading continuous data...\n",
      "Loading continuous data...\n",
      "Loading continuous data...\n",
      "Loading continuous data...\n",
      "Loading continuous data...\n",
      "Loading continuous data...\n",
      "Loading continuous data...\n",
      "Loading continuous data...\n",
      "Loading continuous data...\n",
      "Loading continuous data...\n",
      "Loading continuous data...\n",
      "Loading continuous data...\n",
      "Loading continuous data...\n",
      "Loading continuous data...\n",
      "Loading continuous data...\n"
     ]
    }
   ],
   "source": [
    "recording_location = 'testData/M1_D31_2018-11-01_12-28-25/'\n",
    "def load_OpenEphysRecording(folder):\n",
    "    signal = []\n",
    "    for i in range(settings.num_tetrodes*4):\n",
    "        fname = folder+settings.data_file_prefix+str(i+1)+settings.data_file_suffix+'.continuous'\n",
    "        x = OpenEphys.loadContinuousFast(fname)['data']\n",
    "        if i==0:\n",
    "            #preallocate array on first run\n",
    "            signal = np.zeros((settings.num_tetrodes*4,x.shape[0]))\n",
    "        signal[i,:] = x\n",
    "    return signal\n",
    "\n",
    "signal = load_OpenEphysRecording(recording_location)\n",
    "\n",
    "geom = pd.read_csv('sorting_files/geom_all_tetrodes_original.csv',header=None).values\n",
    "\n",
    "\n",
    "Fs = settings.sampling_rate\n",
    "recording =se.NumpyRecordingExtractor(signal,settings.sampling_rate,geom)"
   ]
  },
  {
   "cell_type": "code",
   "execution_count": 12,
   "metadata": {},
   "outputs": [],
   "source": [
    "recording_prb = recording.load_probe_file('sorting_files/tetrode_16.prb')\n",
    "recording_f = st.preprocessing.bandpass_filter(recording_prb, freq_min=300, freq_max=6000,type='butter',chunk_size=500)"
   ]
  },
  {
   "cell_type": "code",
   "execution_count": 13,
   "metadata": {},
   "outputs": [],
   "source": [
    "with open('sorting_ms4.pkl','rb') as f:\n",
    "    sorting_ms4 = pickle.load(f)"
   ]
  },
  {
   "cell_type": "code",
   "execution_count": 15,
   "metadata": {},
   "outputs": [
    {
     "data": {
      "text/plain": [
       "Timer unit: 1e-06 s\n",
       "\n",
       "Total time: 3.45722 s\n",
       "File: /Users/teristam/anaconda3/envs/mountainlab/lib/python3.6/site-packages/spiketoolkit/preprocessing/bandpass_filter.py\n",
       "Function: _do_filter at line 80\n",
       "\n",
       "Line #      Hits         Time  Per Hit   % Time  Line Contents\n",
       "==============================================================\n",
       "    80                                               def _do_filter(self, chunk):\n",
       "    81      1075       5664.0      5.3      0.2          samplerate = self._recording.get_sampling_frequency()\n",
       "    82      1075       2547.0      2.4      0.1          M = chunk.shape[0]\n",
       "    83      1075        578.0      0.5      0.0          chunk2 = chunk\n",
       "    84                                                   # Do the actual filtering with a DFT with real input\n",
       "    85      1075       1254.0      1.2      0.0          if self._type == 'fft':\n",
       "    86                                                       chunk_fft = np.fft.rfft(chunk2)\n",
       "    87                                                       kernel = self._create_filter_kernel(\n",
       "    88                                                           chunk2.shape[1],\n",
       "    89                                                           samplerate,\n",
       "    90                                                           self._freq_min, self._freq_max, self._freq_wid\n",
       "    91                                                       )\n",
       "    92                                                       kernel = kernel[0:chunk_fft.shape[1]]  # because this is the DFT of real data\n",
       "    93                                                       chunk_fft = chunk_fft * np.tile(kernel, (M, 1))\n",
       "    94                                                       chunk_filtered = np.fft.irfft(chunk_fft)\n",
       "    95      1075        943.0      0.9      0.0          elif self._type == 'butter':\n",
       "    96                                                       # fn = self.get_sampling_frequency() / 2.\n",
       "    97                                                       # band = np.array([self._freq_min, self._freq_max]) / fn\n",
       "    98                                           \n",
       "    99                                                       # b, a = butter(self._order, band, btype='bandpass')\n",
       "   100                                           \n",
       "   101                                                       # if np.all(np.abs(np.roots(a)) < 1) and np.all(np.abs(np.roots(a)) < 1):\n",
       "   102      1075    3444389.0   3204.1     99.6              chunk_filtered = filtfilt(self.b, self.a, chunk2, axis=1)\n",
       "   103                                                       # else:\n",
       "   104                                                       #     raise ValueError('Filter is not stable')\n",
       "   105      1075       1842.0      1.7      0.1          return chunk_filtered"
      ]
     },
     "metadata": {},
     "output_type": "display_data"
    }
   ],
   "source": [
    "%lprun -f st.preprocessing.BandpassFilterRecording._do_filter st.curation.threshold_snr(sorting=sorting_ms4, recording = recording_f, threshold = 5, threshold_sign='less', max_snr_waveforms=50)"
   ]
  },
  {
   "cell_type": "code",
   "execution_count": 63,
   "metadata": {
    "collapsed": true,
    "jupyter": {
     "outputs_hidden": true
    }
   },
   "outputs": [
    {
     "name": "stdout",
     "output_type": "stream",
     "text": [
      "hit\n",
      "hit\n",
      "hit\n",
      "hit\n",
      "hit\n",
      "hit\n",
      "hit\n",
      "hit\n",
      "hit\n",
      "hit\n",
      "hit\n",
      "hit\n",
      "hit\n",
      "hit\n",
      "hit\n",
      "hit\n",
      "hit\n",
      "hit\n",
      "hit\n",
      "hit\n",
      "hit\n",
      "hit\n",
      "hit\n",
      "hit\n",
      "hit\n",
      "hit\n",
      "hit\n",
      "hit\n",
      "hit\n",
      "hit\n",
      "hit\n",
      "hit\n",
      "hit\n",
      "hit\n",
      "hit\n",
      "hit\n",
      "hit\n",
      "hit\n",
      "hit\n",
      "hit\n",
      "hit\n",
      "hit\n",
      "hit\n",
      "hit\n",
      "hit\n",
      "hit\n",
      "hit\n",
      "hit\n",
      "hit\n",
      "hit\n",
      "hit\n",
      "hit\n",
      "hit\n",
      "hit\n",
      "hit\n",
      "hit\n",
      "hit\n",
      "hit\n",
      "hit\n",
      "hit\n",
      "hit\n",
      "hit\n",
      "hit\n",
      "hit\n",
      "hit\n",
      "hit\n",
      "hit\n",
      "hit\n",
      "hit\n",
      "hit\n",
      "hit\n",
      "hit\n",
      "hit\n",
      "hit\n",
      "hit\n",
      "hit\n",
      "hit\n",
      "hit\n",
      "hit\n",
      "hit\n",
      "hit\n",
      "hit\n",
      "hit\n",
      "hit\n",
      "hit\n",
      "hit\n",
      "hit\n",
      "hit\n",
      "hit\n",
      "hit\n",
      "hit\n",
      "hit\n",
      "hit\n",
      "hit\n",
      "hit\n",
      "hit\n",
      "hit\n",
      "hit\n",
      "hit\n",
      "hit\n",
      "hit\n",
      "hit\n",
      "hit\n"
     ]
    }
   ],
   "source": [
    "snr=st.curation.threshold_snr(sorting=sorting_ms4, recording = recording_f, threshold = 5, threshold_sign='less', max_snr_waveforms=2)"
   ]
  },
  {
   "cell_type": "code",
   "execution_count": 65,
   "metadata": {},
   "outputs": [
    {
     "ename": "TypeError",
     "evalue": "get_epoch() missing 1 required positional argument: 'epoch_name'",
     "output_type": "error",
     "traceback": [
      "\u001b[0;31m---------------------------------------------------------------------------\u001b[0m",
      "\u001b[0;31mTypeError\u001b[0m                                 Traceback (most recent call last)",
      "\u001b[0;32m<ipython-input-65-1094f9c4671e>\u001b[0m in \u001b[0;36m<module>\u001b[0;34m\u001b[0m\n\u001b[0;32m----> 1\u001b[0;31m \u001b[0msnr\u001b[0m\u001b[0;34m.\u001b[0m\u001b[0mget_epoch\u001b[0m\u001b[0;34m(\u001b[0m\u001b[0;34m)\u001b[0m\u001b[0;34m\u001b[0m\u001b[0;34m\u001b[0m\u001b[0m\n\u001b[0m",
      "\u001b[0;31mTypeError\u001b[0m: get_epoch() missing 1 required positional argument: 'epoch_name'"
     ]
    }
   ],
   "source": [
    "snr.get_epoch()"
   ]
  },
  {
   "cell_type": "code",
   "execution_count": 9,
   "metadata": {},
   "outputs": [],
   "source": [
    "from scipy.signal import butter\n",
    "from scipy.signal import filtfilt\n",
    "import scipy.signal as signal\n",
    "\n",
    "y = recording._timeseries\n",
    "fn = recording.get_sampling_frequency() / 2.\n",
    "band = np.array([300, 6000]) / fn\n",
    "b, a = butter(3, band, btype='bandpass')\n",
    "if not (np.all(np.abs(np.roots(a)) < 1) and np.all(np.abs(np.roots(a)) < 1)):\n",
    "    raise ValueError('Filter is not stable')\n"
   ]
  },
  {
   "cell_type": "code",
   "execution_count": 14,
   "metadata": {},
   "outputs": [
    {
     "name": "stdout",
     "output_type": "stream",
     "text": [
      "1.56 s ± 10 ms per loop (mean ± std. dev. of 7 runs, 1 loop each)\n"
     ]
    }
   ],
   "source": [
    "%timeit signal.filtfilt(b,a,y[:,:30000*120],axis=1)"
   ]
  },
  {
   "cell_type": "code",
   "execution_count": 13,
   "metadata": {},
   "outputs": [
    {
     "data": {
      "text/plain": [
       "(16, 95519744)"
      ]
     },
     "execution_count": 13,
     "metadata": {},
     "output_type": "execute_result"
    }
   ],
   "source": [
    "y.shape"
   ]
  },
  {
   "cell_type": "code",
   "execution_count": null,
   "metadata": {},
   "outputs": [],
   "source": []
  }
 ],
 "metadata": {
  "kernelspec": {
   "display_name": "Python 3",
   "language": "python",
   "name": "python3"
  },
  "language_info": {
   "codemirror_mode": {
    "name": "ipython",
    "version": 3
   },
   "file_extension": ".py",
   "mimetype": "text/x-python",
   "name": "python",
   "nbconvert_exporter": "python",
   "pygments_lexer": "ipython3",
   "version": "3.6.7"
  }
 },
 "nbformat": 4,
 "nbformat_minor": 4
}
